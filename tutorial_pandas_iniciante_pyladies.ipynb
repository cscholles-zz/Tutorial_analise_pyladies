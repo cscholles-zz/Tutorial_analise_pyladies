{
  "nbformat": 4,
  "nbformat_minor": 0,
  "metadata": {
    "colab": {
      "name": "tutorial-pandas-iniciante-pyladies",
      "provenance": [],
      "toc_visible": true
    },
    "kernelspec": {
      "name": "python3",
      "display_name": "Python 3"
    }
  },
  "cells": [
    {
      "cell_type": "markdown",
      "metadata": {
        "id": "7nOduixaC9Wf"
      },
      "source": [
        "#Tutorial para substituir o excel por pandas\n",
        "\n",
        "Tutorial básico para não-programadores ou quem está iniciando pandas.\n",
        "\n",
        "A fonte original está aqui (eu fiz algumas modificações, além de traduzir para pt-br): https://github.com/dom-devel/pandas_basic_data_analysis_tutorial\n",
        "\n"
      ]
    },
    {
      "cell_type": "code",
      "metadata": {
        "id": "WZRPoMvCEYgE"
      },
      "source": [
        "!pip install ipython\n",
        "import IPython"
      ],
      "execution_count": null,
      "outputs": []
    },
    {
      "cell_type": "code",
      "metadata": {
        "id": "cqUmJpPFC7y6"
      },
      "source": [
        "#Importação de bibliotecas\n",
        "\n",
        "import pandas as pd #funções para a análise de dados\n",
        "import numpy as np #mais funções para análise de dados (menos user friendly do que pandas)\n",
        "import re #expressões regulares; pandas já possui; normalmente não é necessário importar (mas vamos colocar por preucaução)\n",
        "from IPython.display import display #formatação mais agradável"
      ],
      "execution_count": null,
      "outputs": []
    },
    {
      "cell_type": "markdown",
      "metadata": {
        "id": "p4ynycZZFeJP"
      },
      "source": [
        "#Criação do primeiro dataframe\n",
        "\n",
        "Há diferentes formas de lidar com arquivos no colab. Aqui vamos fazer uma delas. Para ver mais métodos, você pode acessar esse [link](https://neptune.ai/blog/google-colab-dealing-with-files)."
      ]
    },
    {
      "cell_type": "markdown",
      "metadata": {
        "id": "tluFpJAiGQ5A"
      },
      "source": [
        "Vamos integrar o Google Drive com o nosso Google Colab: vá em files > mount google drive."
      ]
    },
    {
      "cell_type": "code",
      "metadata": {
        "id": "ybw1r89uGX_h"
      },
      "source": [
        "#criação do primeiro dataframe\n",
        "\n",
        "df = pd.read_csv(\"/content/drive/My Drive/Tutorial_analise_pyladies/Example Car SERPs.csv\")"
      ],
      "execution_count": null,
      "outputs": []
    },
    {
      "cell_type": "code",
      "metadata": {
        "id": "XF9tQUUwG1Hz",
        "outputId": "90655f94-57ed-49af-cc4f-5f2e16e433d2",
        "colab": {
          "base_uri": "https://localhost:8080/",
          "height": 1000
        }
      },
      "source": [
        "#Explorando o dataframe\n",
        "\n",
        "df.head(10)"
      ],
      "execution_count": null,
      "outputs": [
        {
          "output_type": "execute_result",
          "data": {
            "text/html": [
              "<div>\n",
              "<style scoped>\n",
              "    .dataframe tbody tr th:only-of-type {\n",
              "        vertical-align: middle;\n",
              "    }\n",
              "\n",
              "    .dataframe tbody tr th {\n",
              "        vertical-align: top;\n",
              "    }\n",
              "\n",
              "    .dataframe thead th {\n",
              "        text-align: right;\n",
              "    }\n",
              "</style>\n",
              "<table border=\"1\" class=\"dataframe\">\n",
              "  <thead>\n",
              "    <tr style=\"text-align: right;\">\n",
              "      <th></th>\n",
              "      <th>Keyword</th>\n",
              "      <th>Market</th>\n",
              "      <th>Location</th>\n",
              "      <th>Device</th>\n",
              "      <th>Regional Monthly Search Volume</th>\n",
              "      <th>Rank</th>\n",
              "      <th>Result Types for Jan  1, 2017</th>\n",
              "      <th>Protocol for Jan  1, 2017</th>\n",
              "      <th>Ranking URL on Jan  1, 2017</th>\n",
              "      <th>Result Types for Sep  1, 2017</th>\n",
              "      <th>Protocol for Sep  1, 2017</th>\n",
              "      <th>Ranking URL on Sep  1, 2017</th>\n",
              "      <th>Tags</th>\n",
              "    </tr>\n",
              "  </thead>\n",
              "  <tbody>\n",
              "    <tr>\n",
              "      <th>0</th>\n",
              "      <td>0 apr car deals</td>\n",
              "      <td>GB-en</td>\n",
              "      <td>NaN</td>\n",
              "      <td>desktop</td>\n",
              "      <td>1900.0</td>\n",
              "      <td>1</td>\n",
              "      <td>NaN</td>\n",
              "      <td>NaN</td>\n",
              "      <td>NaN</td>\n",
              "      <td>answers / list</td>\n",
              "      <td>http</td>\n",
              "      <td>www.autoexpress.co.uk/best-cars/98556/the-best...</td>\n",
              "      <td>!permanent keywords / auto express / featured ...</td>\n",
              "    </tr>\n",
              "    <tr>\n",
              "      <th>1</th>\n",
              "      <td>0 apr car deals</td>\n",
              "      <td>GB-en</td>\n",
              "      <td>NaN</td>\n",
              "      <td>desktop</td>\n",
              "      <td>1900.0</td>\n",
              "      <td>2</td>\n",
              "      <td>NaN</td>\n",
              "      <td>NaN</td>\n",
              "      <td>NaN</td>\n",
              "      <td>organic</td>\n",
              "      <td>https</td>\n",
              "      <td>www.carwow.co.uk/best/cars-for-sale-with-0-per...</td>\n",
              "      <td>!permanent keywords / auto express / featured ...</td>\n",
              "    </tr>\n",
              "    <tr>\n",
              "      <th>2</th>\n",
              "      <td>0 apr car deals</td>\n",
              "      <td>GB-en</td>\n",
              "      <td>NaN</td>\n",
              "      <td>desktop</td>\n",
              "      <td>1900.0</td>\n",
              "      <td>3</td>\n",
              "      <td>NaN</td>\n",
              "      <td>NaN</td>\n",
              "      <td>NaN</td>\n",
              "      <td>organic</td>\n",
              "      <td>http</td>\n",
              "      <td>www.autoexpress.co.uk/best-cars/98556/the-best...</td>\n",
              "      <td>!permanent keywords / auto express / featured ...</td>\n",
              "    </tr>\n",
              "    <tr>\n",
              "      <th>3</th>\n",
              "      <td>0 apr car deals</td>\n",
              "      <td>GB-en</td>\n",
              "      <td>NaN</td>\n",
              "      <td>desktop</td>\n",
              "      <td>1900.0</td>\n",
              "      <td>4</td>\n",
              "      <td>NaN</td>\n",
              "      <td>NaN</td>\n",
              "      <td>NaN</td>\n",
              "      <td>organic</td>\n",
              "      <td>http</td>\n",
              "      <td>www.autoexpress.co.uk/best-cars/85381/best-new...</td>\n",
              "      <td>!permanent keywords / auto express / featured ...</td>\n",
              "    </tr>\n",
              "    <tr>\n",
              "      <th>4</th>\n",
              "      <td>0 apr car deals</td>\n",
              "      <td>GB-en</td>\n",
              "      <td>NaN</td>\n",
              "      <td>desktop</td>\n",
              "      <td>1900.0</td>\n",
              "      <td>5</td>\n",
              "      <td>NaN</td>\n",
              "      <td>NaN</td>\n",
              "      <td>NaN</td>\n",
              "      <td>organic</td>\n",
              "      <td>https</td>\n",
              "      <td>www.toyota.co.uk/current-offers/index.json</td>\n",
              "      <td>!permanent keywords / auto express / featured ...</td>\n",
              "    </tr>\n",
              "    <tr>\n",
              "      <th>5</th>\n",
              "      <td>0 apr car deals</td>\n",
              "      <td>GB-en</td>\n",
              "      <td>NaN</td>\n",
              "      <td>desktop</td>\n",
              "      <td>1900.0</td>\n",
              "      <td>6</td>\n",
              "      <td>NaN</td>\n",
              "      <td>NaN</td>\n",
              "      <td>NaN</td>\n",
              "      <td>organic</td>\n",
              "      <td>http</td>\n",
              "      <td>www.interestfree4cars.com/</td>\n",
              "      <td>!permanent keywords / auto express / featured ...</td>\n",
              "    </tr>\n",
              "    <tr>\n",
              "      <th>6</th>\n",
              "      <td>0 apr car deals</td>\n",
              "      <td>GB-en</td>\n",
              "      <td>NaN</td>\n",
              "      <td>desktop</td>\n",
              "      <td>1900.0</td>\n",
              "      <td>7</td>\n",
              "      <td>NaN</td>\n",
              "      <td>NaN</td>\n",
              "      <td>NaN</td>\n",
              "      <td>organic</td>\n",
              "      <td>http</td>\n",
              "      <td>www.thisismoney.co.uk/money/cars/article-42716...</td>\n",
              "      <td>!permanent keywords / auto express / featured ...</td>\n",
              "    </tr>\n",
              "    <tr>\n",
              "      <th>7</th>\n",
              "      <td>0 apr car deals</td>\n",
              "      <td>GB-en</td>\n",
              "      <td>NaN</td>\n",
              "      <td>desktop</td>\n",
              "      <td>1900.0</td>\n",
              "      <td>8</td>\n",
              "      <td>NaN</td>\n",
              "      <td>NaN</td>\n",
              "      <td>NaN</td>\n",
              "      <td>organic</td>\n",
              "      <td>http</td>\n",
              "      <td>www.stoneacre.co.uk/0-car-finance</td>\n",
              "      <td>!permanent keywords / auto express / featured ...</td>\n",
              "    </tr>\n",
              "    <tr>\n",
              "      <th>8</th>\n",
              "      <td>0 apr car deals</td>\n",
              "      <td>GB-en</td>\n",
              "      <td>NaN</td>\n",
              "      <td>desktop</td>\n",
              "      <td>1900.0</td>\n",
              "      <td>9</td>\n",
              "      <td>NaN</td>\n",
              "      <td>NaN</td>\n",
              "      <td>NaN</td>\n",
              "      <td>organic</td>\n",
              "      <td>http</td>\n",
              "      <td>www.carbuyer.co.uk/news/81264/best-new-car-dea...</td>\n",
              "      <td>!permanent keywords / auto express / featured ...</td>\n",
              "    </tr>\n",
              "    <tr>\n",
              "      <th>9</th>\n",
              "      <td>0 apr car deals</td>\n",
              "      <td>GB-en</td>\n",
              "      <td>NaN</td>\n",
              "      <td>desktop</td>\n",
              "      <td>1900.0</td>\n",
              "      <td>10</td>\n",
              "      <td>NaN</td>\n",
              "      <td>NaN</td>\n",
              "      <td>NaN</td>\n",
              "      <td>organic</td>\n",
              "      <td>http</td>\n",
              "      <td>www.hyundai.co.uk/offers</td>\n",
              "      <td>!permanent keywords / auto express / featured ...</td>\n",
              "    </tr>\n",
              "  </tbody>\n",
              "</table>\n",
              "</div>"
            ],
            "text/plain": [
              "           Keyword  ...                                               Tags\n",
              "0  0 apr car deals  ...  !permanent keywords / auto express / featured ...\n",
              "1  0 apr car deals  ...  !permanent keywords / auto express / featured ...\n",
              "2  0 apr car deals  ...  !permanent keywords / auto express / featured ...\n",
              "3  0 apr car deals  ...  !permanent keywords / auto express / featured ...\n",
              "4  0 apr car deals  ...  !permanent keywords / auto express / featured ...\n",
              "5  0 apr car deals  ...  !permanent keywords / auto express / featured ...\n",
              "6  0 apr car deals  ...  !permanent keywords / auto express / featured ...\n",
              "7  0 apr car deals  ...  !permanent keywords / auto express / featured ...\n",
              "8  0 apr car deals  ...  !permanent keywords / auto express / featured ...\n",
              "9  0 apr car deals  ...  !permanent keywords / auto express / featured ...\n",
              "\n",
              "[10 rows x 13 columns]"
            ]
          },
          "metadata": {
            "tags": []
          },
          "execution_count": 10
        }
      ]
    },
    {
      "cell_type": "code",
      "metadata": {
        "id": "vtVus1_JG9iW",
        "outputId": "f8e4bcc6-911f-4eb1-c0ce-2d48ac952ffa",
        "colab": {
          "base_uri": "https://localhost:8080/",
          "height": 342
        }
      },
      "source": [
        "#Explorando o dataframe\n",
        "\n",
        "df.info(3)"
      ],
      "execution_count": null,
      "outputs": [
        {
          "output_type": "stream",
          "text": [
            "<class 'pandas.core.frame.DataFrame'>\n",
            "RangeIndex: 39600 entries, 0 to 39599\n",
            "Data columns (total 13 columns):\n",
            " #   Column                          Non-Null Count  Dtype  \n",
            "---  ------                          --------------  -----  \n",
            " 0   Keyword                         39600 non-null  object \n",
            " 1   Market                          39600 non-null  object \n",
            " 2   Location                        0 non-null      float64\n",
            " 3   Device                          39600 non-null  object \n",
            " 4   Regional Monthly Search Volume  39520 non-null  float64\n",
            " 5   Rank                            39600 non-null  int64  \n",
            " 6   Result Types for Jan  1, 2017   31280 non-null  object \n",
            " 7   Protocol for Jan  1, 2017       31280 non-null  object \n",
            " 8   Ranking URL on Jan  1, 2017     31280 non-null  object \n",
            " 9   Result Types for Sep  1, 2017   39420 non-null  object \n",
            " 10  Protocol for Sep  1, 2017       39420 non-null  object \n",
            " 11  Ranking URL on Sep  1, 2017     39420 non-null  object \n",
            " 12  Tags                            39600 non-null  object \n",
            "dtypes: float64(2), int64(1), object(10)\n",
            "memory usage: 3.9+ MB\n"
          ],
          "name": "stdout"
        }
      ]
    },
    {
      "cell_type": "code",
      "metadata": {
        "id": "pkXdUEj9HAly",
        "outputId": "bf97660a-768c-42d0-ba74-09aa45d4518c",
        "colab": {
          "base_uri": "https://localhost:8080/",
          "height": 33
        }
      },
      "source": [
        "#Explorando o dataframe\n",
        "\n",
        "df.shape"
      ],
      "execution_count": null,
      "outputs": [
        {
          "output_type": "execute_result",
          "data": {
            "text/plain": [
              "(39600, 13)"
            ]
          },
          "metadata": {
            "tags": []
          },
          "execution_count": 7
        }
      ]
    },
    {
      "cell_type": "code",
      "metadata": {
        "id": "Ty6Ak3ADHbck",
        "outputId": "bcf4443d-97c9-4be0-d62f-518addf44046",
        "colab": {
          "base_uri": "https://localhost:8080/",
          "height": 98
        }
      },
      "source": [
        "#Explorando o dataframe - para imprimir multiplas linhas deve ser utilizado o display\n",
        "display(df['Market'].head(1))\n",
        "display(df['Market'].head(2))"
      ],
      "execution_count": null,
      "outputs": [
        {
          "output_type": "display_data",
          "data": {
            "text/plain": [
              "0    GB-en\n",
              "Name: Market, dtype: object"
            ]
          },
          "metadata": {
            "tags": []
          }
        },
        {
          "output_type": "display_data",
          "data": {
            "text/plain": [
              "0    GB-en\n",
              "1    GB-en\n",
              "Name: Market, dtype: object"
            ]
          },
          "metadata": {
            "tags": []
          }
        }
      ]
    },
    {
      "cell_type": "code",
      "metadata": {
        "id": "cENZ-3uIHsoN",
        "outputId": "5943250b-366e-49e4-c708-916694822f65",
        "colab": {
          "base_uri": "https://localhost:8080/",
          "height": 50
        }
      },
      "source": [
        "#Explorando o dataframe - apenas uma linha (neste caso não precisa de display)\n",
        "\n",
        "df['Market'].head(1)\n"
      ],
      "execution_count": null,
      "outputs": [
        {
          "output_type": "execute_result",
          "data": {
            "text/plain": [
              "0    GB-en\n",
              "Name: Market, dtype: object"
            ]
          },
          "metadata": {
            "tags": []
          },
          "execution_count": 9
        }
      ]
    },
    {
      "cell_type": "markdown",
      "metadata": {
        "id": "--9DaUcDH5-k"
      },
      "source": [
        "#Filtrando Dados\n",
        "Aqui veremos como filtrar dados com base nos valores das colunas."
      ]
    },
    {
      "cell_type": "code",
      "metadata": {
        "id": "Ronc0ZJ6IZae",
        "outputId": "a88e01cb-e653-4a99-c298-d518b733a4d7",
        "colab": {
          "base_uri": "https://localhost:8080/",
          "height": 462
        }
      },
      "source": [
        "#Criando um novo dataframe que contém apenas valores de uma determinada string\n",
        "\n",
        "df_filtered = df[(df[\"Keyword\"].str.contains(\"hyundai\", regex=True)==True)]\n",
        "df_filtered.head(3)"
      ],
      "execution_count": null,
      "outputs": [
        {
          "output_type": "execute_result",
          "data": {
            "text/html": [
              "<div>\n",
              "<style scoped>\n",
              "    .dataframe tbody tr th:only-of-type {\n",
              "        vertical-align: middle;\n",
              "    }\n",
              "\n",
              "    .dataframe tbody tr th {\n",
              "        vertical-align: top;\n",
              "    }\n",
              "\n",
              "    .dataframe thead th {\n",
              "        text-align: right;\n",
              "    }\n",
              "</style>\n",
              "<table border=\"1\" class=\"dataframe\">\n",
              "  <thead>\n",
              "    <tr style=\"text-align: right;\">\n",
              "      <th></th>\n",
              "      <th>Keyword</th>\n",
              "      <th>Market</th>\n",
              "      <th>Location</th>\n",
              "      <th>Device</th>\n",
              "      <th>Regional Monthly Search Volume</th>\n",
              "      <th>Rank</th>\n",
              "      <th>Result Types for Jan  1, 2017</th>\n",
              "      <th>Protocol for Jan  1, 2017</th>\n",
              "      <th>Ranking URL on Jan  1, 2017</th>\n",
              "      <th>Result Types for Sep  1, 2017</th>\n",
              "      <th>Protocol for Sep  1, 2017</th>\n",
              "      <th>Ranking URL on Sep  1, 2017</th>\n",
              "      <th>Tags</th>\n",
              "    </tr>\n",
              "  </thead>\n",
              "  <tbody>\n",
              "    <tr>\n",
              "      <th>34200</th>\n",
              "      <td>hyundai coupe</td>\n",
              "      <td>GB-en</td>\n",
              "      <td>NaN</td>\n",
              "      <td>desktop</td>\n",
              "      <td>6600.0</td>\n",
              "      <td>1</td>\n",
              "      <td>organic</td>\n",
              "      <td>http</td>\n",
              "      <td>www.autotrader.co.uk/used-cars/hyundai/coupe</td>\n",
              "      <td>answers / paragraph</td>\n",
              "      <td>https</td>\n",
              "      <td>www.autotrader.co.uk/used-cars/hyundai/coupe</td>\n",
              "      <td>cars - hyundai / gsc / permanent keywords / ta...</td>\n",
              "    </tr>\n",
              "    <tr>\n",
              "      <th>34201</th>\n",
              "      <td>hyundai coupe</td>\n",
              "      <td>GB-en</td>\n",
              "      <td>NaN</td>\n",
              "      <td>desktop</td>\n",
              "      <td>6600.0</td>\n",
              "      <td>2</td>\n",
              "      <td>organic</td>\n",
              "      <td>https</td>\n",
              "      <td>en.wikipedia.org/wiki/Hyundai_Tiburon</td>\n",
              "      <td>organic</td>\n",
              "      <td>https</td>\n",
              "      <td>www.autotrader.co.uk/used-cars/hyundai/coupe</td>\n",
              "      <td>cars - hyundai / gsc / permanent keywords / ta...</td>\n",
              "    </tr>\n",
              "    <tr>\n",
              "      <th>34202</th>\n",
              "      <td>hyundai coupe</td>\n",
              "      <td>GB-en</td>\n",
              "      <td>NaN</td>\n",
              "      <td>desktop</td>\n",
              "      <td>6600.0</td>\n",
              "      <td>3</td>\n",
              "      <td>images</td>\n",
              "      <td>http</td>\n",
              "      <td>www.google.co.uk/</td>\n",
              "      <td>organic</td>\n",
              "      <td>https</td>\n",
              "      <td>en.wikipedia.org/wiki/Hyundai_Tiburon</td>\n",
              "      <td>cars - hyundai / gsc / permanent keywords / ta...</td>\n",
              "    </tr>\n",
              "  </tbody>\n",
              "</table>\n",
              "</div>"
            ],
            "text/plain": [
              "             Keyword  ...                                               Tags\n",
              "34200  hyundai coupe  ...  cars - hyundai / gsc / permanent keywords / ta...\n",
              "34201  hyundai coupe  ...  cars - hyundai / gsc / permanent keywords / ta...\n",
              "34202  hyundai coupe  ...  cars - hyundai / gsc / permanent keywords / ta...\n",
              "\n",
              "[3 rows x 13 columns]"
            ]
          },
          "metadata": {
            "tags": []
          },
          "execution_count": 13
        }
      ]
    },
    {
      "cell_type": "code",
      "metadata": {
        "id": "5QdpLLOEInRp",
        "outputId": "4c0be05c-becf-4c5c-9f8b-6d88272a9a4f",
        "colab": {
          "base_uri": "https://localhost:8080/"
        }
      },
      "source": [
        "#Criando um novo dataframe que contém apenas valores numéricos\n",
        "\n",
        "df_filtered = df[df[\"Rank\"]==10]\n",
        "df_filtered.head(3)"
      ],
      "execution_count": null,
      "outputs": [
        {
          "output_type": "execute_result",
          "data": {
            "text/html": [
              "<div>\n",
              "<style scoped>\n",
              "    .dataframe tbody tr th:only-of-type {\n",
              "        vertical-align: middle;\n",
              "    }\n",
              "\n",
              "    .dataframe tbody tr th {\n",
              "        vertical-align: top;\n",
              "    }\n",
              "\n",
              "    .dataframe thead th {\n",
              "        text-align: right;\n",
              "    }\n",
              "</style>\n",
              "<table border=\"1\" class=\"dataframe\">\n",
              "  <thead>\n",
              "    <tr style=\"text-align: right;\">\n",
              "      <th></th>\n",
              "      <th>Keyword</th>\n",
              "      <th>Market</th>\n",
              "      <th>Location</th>\n",
              "      <th>Device</th>\n",
              "      <th>Regional Monthly Search Volume</th>\n",
              "      <th>Rank</th>\n",
              "      <th>Result Types for Jan  1, 2017</th>\n",
              "      <th>Protocol for Jan  1, 2017</th>\n",
              "      <th>Ranking URL on Jan  1, 2017</th>\n",
              "      <th>Result Types for Sep  1, 2017</th>\n",
              "      <th>Protocol for Sep  1, 2017</th>\n",
              "      <th>Ranking URL on Sep  1, 2017</th>\n",
              "      <th>Tags</th>\n",
              "    </tr>\n",
              "  </thead>\n",
              "  <tbody>\n",
              "    <tr>\n",
              "      <th>9</th>\n",
              "      <td>0 apr car deals</td>\n",
              "      <td>GB-en</td>\n",
              "      <td>NaN</td>\n",
              "      <td>desktop</td>\n",
              "      <td>1900.0</td>\n",
              "      <td>10</td>\n",
              "      <td>NaN</td>\n",
              "      <td>NaN</td>\n",
              "      <td>NaN</td>\n",
              "      <td>organic</td>\n",
              "      <td>http</td>\n",
              "      <td>www.hyundai.co.uk/offers</td>\n",
              "      <td>!permanent keywords / auto express / featured ...</td>\n",
              "    </tr>\n",
              "    <tr>\n",
              "      <th>29</th>\n",
              "      <td>0 car finance deals</td>\n",
              "      <td>GB-en</td>\n",
              "      <td>NaN</td>\n",
              "      <td>desktop</td>\n",
              "      <td>4400.0</td>\n",
              "      <td>10</td>\n",
              "      <td>NaN</td>\n",
              "      <td>NaN</td>\n",
              "      <td>NaN</td>\n",
              "      <td>organic</td>\n",
              "      <td>http</td>\n",
              "      <td>www.thisismoney.co.uk/money/cars/article-42716...</td>\n",
              "      <td>!permanent keywords / auto express / featured ...</td>\n",
              "    </tr>\n",
              "    <tr>\n",
              "      <th>49</th>\n",
              "      <td>0 car finance offers</td>\n",
              "      <td>GB-en</td>\n",
              "      <td>NaN</td>\n",
              "      <td>desktop</td>\n",
              "      <td>320.0</td>\n",
              "      <td>10</td>\n",
              "      <td>NaN</td>\n",
              "      <td>NaN</td>\n",
              "      <td>NaN</td>\n",
              "      <td>organic</td>\n",
              "      <td>http</td>\n",
              "      <td>www.carbuyer.co.uk/news/81264/best-new-car-dea...</td>\n",
              "      <td>!permanent keywords / auto express / featured ...</td>\n",
              "    </tr>\n",
              "  </tbody>\n",
              "</table>\n",
              "</div>"
            ],
            "text/plain": [
              "                 Keyword  ...                                               Tags\n",
              "9        0 apr car deals  ...  !permanent keywords / auto express / featured ...\n",
              "29   0 car finance deals  ...  !permanent keywords / auto express / featured ...\n",
              "49  0 car finance offers  ...  !permanent keywords / auto express / featured ...\n",
              "\n",
              "[3 rows x 13 columns]"
            ]
          },
          "metadata": {
            "tags": []
          },
          "execution_count": 12
        }
      ]
    },
    {
      "cell_type": "markdown",
      "metadata": {
        "id": "V6sPq55SJoXG"
      },
      "source": [
        "##Valores Boleanos"
      ]
    },
    {
      "cell_type": "code",
      "metadata": {
        "id": "baZpd5Q4Jxyn"
      },
      "source": [
        "#criando uma coluna \"is_rank_1\" e declarando que se a coluna rank for igual a 1, o valor dela deve equivaler a True.\n",
        "df['is_rank_1'] = False\n",
        "df.loc[df['Rank'] == 1, 'is_rank_1'] = True"
      ],
      "execution_count": null,
      "outputs": []
    },
    {
      "cell_type": "code",
      "metadata": {
        "id": "_pKSPdCWKXPX"
      },
      "source": [
        "#criando novos dataframes com base no código anterior - INCLUI termos na posição 1\n",
        "df_filtered = df[df['is_rank_1']]"
      ],
      "execution_count": null,
      "outputs": []
    },
    {
      "cell_type": "code",
      "metadata": {
        "id": "28HDzLVSKtmQ"
      },
      "source": [
        "#criando novos dataframes com base no código anterior - EXCLUI termos na posição 1\n",
        "df_filtered = df[~df['is_rank_1']]"
      ],
      "execution_count": null,
      "outputs": []
    },
    {
      "cell_type": "markdown",
      "metadata": {
        "id": "wEH831C-K9jf"
      },
      "source": [
        "##Lista de Condições"
      ]
    },
    {
      "cell_type": "code",
      "metadata": {
        "id": "0zGpkhluLUJE"
      },
      "source": [
        "#criando uma lista:\n",
        "list_of_values = [\n",
        "    '1 series bmw',\n",
        "    'ford deals'\n",
        "]\n",
        "\n",
        "#novo dataframe com base na lista anterior:\n",
        "df_filtered = df[df[\"Keyword\"].isin(list_of_values)]"
      ],
      "execution_count": null,
      "outputs": []
    },
    {
      "cell_type": "code",
      "metadata": {
        "id": "yVZxg0UzQlwT",
        "outputId": "e0cdb691-6e68-474b-babe-129ff62a3573",
        "colab": {
          "base_uri": "https://localhost:8080/",
          "height": 365
        }
      },
      "source": [
        "df_filtered.head(3)"
      ],
      "execution_count": null,
      "outputs": [
        {
          "output_type": "execute_result",
          "data": {
            "text/html": [
              "<div>\n",
              "<style scoped>\n",
              "    .dataframe tbody tr th:only-of-type {\n",
              "        vertical-align: middle;\n",
              "    }\n",
              "\n",
              "    .dataframe tbody tr th {\n",
              "        vertical-align: top;\n",
              "    }\n",
              "\n",
              "    .dataframe thead th {\n",
              "        text-align: right;\n",
              "    }\n",
              "</style>\n",
              "<table border=\"1\" class=\"dataframe\">\n",
              "  <thead>\n",
              "    <tr style=\"text-align: right;\">\n",
              "      <th></th>\n",
              "      <th>Keyword</th>\n",
              "      <th>Market</th>\n",
              "      <th>Location</th>\n",
              "      <th>Device</th>\n",
              "      <th>Regional Monthly Search Volume</th>\n",
              "      <th>Rank</th>\n",
              "      <th>Result Types for Jan  1, 2017</th>\n",
              "      <th>Protocol for Jan  1, 2017</th>\n",
              "      <th>Ranking URL on Jan  1, 2017</th>\n",
              "      <th>Result Types for Sep  1, 2017</th>\n",
              "      <th>Protocol for Sep  1, 2017</th>\n",
              "      <th>Ranking URL on Sep  1, 2017</th>\n",
              "      <th>Tags</th>\n",
              "      <th>is_rank_1</th>\n",
              "    </tr>\n",
              "  </thead>\n",
              "  <tbody>\n",
              "    <tr>\n",
              "      <th>180</th>\n",
              "      <td>1 series bmw</td>\n",
              "      <td>GB-en</td>\n",
              "      <td>NaN</td>\n",
              "      <td>desktop</td>\n",
              "      <td>3600.0</td>\n",
              "      <td>1</td>\n",
              "      <td>organic</td>\n",
              "      <td>http</td>\n",
              "      <td>www.bmw.co.uk/en_GB/new-vehicles/1.html</td>\n",
              "      <td>organic</td>\n",
              "      <td>http</td>\n",
              "      <td>www.bmw.co.uk/en_GB/new-vehicles/1.html</td>\n",
              "      <td>temp - semrush / used-cars</td>\n",
              "      <td>True</td>\n",
              "    </tr>\n",
              "    <tr>\n",
              "      <th>181</th>\n",
              "      <td>1 series bmw</td>\n",
              "      <td>GB-en</td>\n",
              "      <td>NaN</td>\n",
              "      <td>desktop</td>\n",
              "      <td>3600.0</td>\n",
              "      <td>2</td>\n",
              "      <td>organic</td>\n",
              "      <td>http</td>\n",
              "      <td>www.autotrader.co.uk/used-cars/bmw/1-series</td>\n",
              "      <td>organic</td>\n",
              "      <td>https</td>\n",
              "      <td>www.autotrader.co.uk/used-cars/bmw/1-series</td>\n",
              "      <td>temp - semrush / used-cars</td>\n",
              "      <td>False</td>\n",
              "    </tr>\n",
              "    <tr>\n",
              "      <th>182</th>\n",
              "      <td>1 series bmw</td>\n",
              "      <td>GB-en</td>\n",
              "      <td>NaN</td>\n",
              "      <td>desktop</td>\n",
              "      <td>3600.0</td>\n",
              "      <td>3</td>\n",
              "      <td>organic</td>\n",
              "      <td>http</td>\n",
              "      <td>www.whatcar.com/bmw/1-series/hatchback/review/</td>\n",
              "      <td>organic</td>\n",
              "      <td>https</td>\n",
              "      <td>www.gumtree.com/cars/uk/bmw+1+series</td>\n",
              "      <td>temp - semrush / used-cars</td>\n",
              "      <td>False</td>\n",
              "    </tr>\n",
              "  </tbody>\n",
              "</table>\n",
              "</div>"
            ],
            "text/plain": [
              "          Keyword Market  ...                        Tags is_rank_1\n",
              "180  1 series bmw  GB-en  ...  temp - semrush / used-cars      True\n",
              "181  1 series bmw  GB-en  ...  temp - semrush / used-cars     False\n",
              "182  1 series bmw  GB-en  ...  temp - semrush / used-cars     False\n",
              "\n",
              "[3 rows x 14 columns]"
            ]
          },
          "metadata": {
            "tags": []
          },
          "execution_count": 18
        }
      ]
    },
    {
      "cell_type": "markdown",
      "metadata": {
        "id": "8igM-I1vLC7-"
      },
      "source": [
        "##Condições Multiplas"
      ]
    },
    {
      "cell_type": "code",
      "metadata": {
        "id": "IS0jp_z5Lb2r"
      },
      "source": [
        "#colocamos as condições dentro dos []'s + (). \n",
        "#podemos usar & que é o símbolo para E ou | que é o símbolo para OU.\n",
        "\n",
        "df_filtered = df[(df[\"Market\"].str.contains(\"GB-en\")==False) | \n",
        "                 (df[\"Device\"].str.contains(\"desktop\")==True)]"
      ],
      "execution_count": null,
      "outputs": []
    },
    {
      "cell_type": "markdown",
      "metadata": {
        "id": "ZSp9mpUCNsG2"
      },
      "source": [
        "##Dúvidas?\n",
        "\n",
        "Com base nos exemplos, acima você consegue pensar em algum filtro para o data frame que acabamos de criar?"
      ]
    },
    {
      "cell_type": "code",
      "metadata": {
        "id": "E7kkQSq-N14z"
      },
      "source": [
        "#df_filtered ="
      ],
      "execution_count": null,
      "outputs": []
    },
    {
      "cell_type": "markdown",
      "metadata": {
        "id": "I_hZxAAvN7dk"
      },
      "source": [
        "#Criando Colunas com base em valores existentes\n",
        "Às vezes tudo o que queremos é criar colunas que ajudem a \"categorizar\" nossos dados com base nas informações existentes."
      ]
    },
    {
      "cell_type": "code",
      "metadata": {
        "id": "vwE1xB8aOcbr"
      },
      "source": [
        "#criando uma coluna chamada \"Industry\"\n",
        "df['industry'] = \"Cars\""
      ],
      "execution_count": null,
      "outputs": []
    },
    {
      "cell_type": "code",
      "metadata": {
        "id": "WxTMAf6DO4gJ"
      },
      "source": [
        "#criando uma coluna a partir de uma condição boleana\n",
        "\n",
        "df['is_rank_2'] = df['Rank'] == 2 #TRUE para valores que equivale a 1"
      ],
      "execution_count": null,
      "outputs": []
    },
    {
      "cell_type": "code",
      "metadata": {
        "id": "ohcHZplaTa-3",
        "outputId": "469facd8-cd86-4d4a-bbe3-65db07e54671",
        "colab": {
          "base_uri": "https://localhost:8080/",
          "height": 1000
        }
      },
      "source": [
        "df.head(10)"
      ],
      "execution_count": null,
      "outputs": [
        {
          "output_type": "execute_result",
          "data": {
            "text/html": [
              "<div>\n",
              "<style scoped>\n",
              "    .dataframe tbody tr th:only-of-type {\n",
              "        vertical-align: middle;\n",
              "    }\n",
              "\n",
              "    .dataframe tbody tr th {\n",
              "        vertical-align: top;\n",
              "    }\n",
              "\n",
              "    .dataframe thead th {\n",
              "        text-align: right;\n",
              "    }\n",
              "</style>\n",
              "<table border=\"1\" class=\"dataframe\">\n",
              "  <thead>\n",
              "    <tr style=\"text-align: right;\">\n",
              "      <th></th>\n",
              "      <th>Keyword</th>\n",
              "      <th>Market</th>\n",
              "      <th>Location</th>\n",
              "      <th>Device</th>\n",
              "      <th>Regional Monthly Search Volume</th>\n",
              "      <th>Rank</th>\n",
              "      <th>Result Types for Jan  1, 2017</th>\n",
              "      <th>Protocol for Jan  1, 2017</th>\n",
              "      <th>Ranking URL on Jan  1, 2017</th>\n",
              "      <th>Result Types for Sep  1, 2017</th>\n",
              "      <th>Protocol for Sep  1, 2017</th>\n",
              "      <th>Ranking URL on Sep  1, 2017</th>\n",
              "      <th>Tags</th>\n",
              "      <th>is_rank_1</th>\n",
              "      <th>industry</th>\n",
              "      <th>is_rank_2</th>\n",
              "    </tr>\n",
              "  </thead>\n",
              "  <tbody>\n",
              "    <tr>\n",
              "      <th>0</th>\n",
              "      <td>0 apr car deals</td>\n",
              "      <td>GB-en</td>\n",
              "      <td>NaN</td>\n",
              "      <td>desktop</td>\n",
              "      <td>1900.0</td>\n",
              "      <td>1</td>\n",
              "      <td>NaN</td>\n",
              "      <td>NaN</td>\n",
              "      <td>NaN</td>\n",
              "      <td>answers / list</td>\n",
              "      <td>http</td>\n",
              "      <td>www.autoexpress.co.uk/best-cars/98556/the-best...</td>\n",
              "      <td>!permanent keywords / auto express / featured ...</td>\n",
              "      <td>True</td>\n",
              "      <td>Cars</td>\n",
              "      <td>False</td>\n",
              "    </tr>\n",
              "    <tr>\n",
              "      <th>1</th>\n",
              "      <td>0 apr car deals</td>\n",
              "      <td>GB-en</td>\n",
              "      <td>NaN</td>\n",
              "      <td>desktop</td>\n",
              "      <td>1900.0</td>\n",
              "      <td>2</td>\n",
              "      <td>NaN</td>\n",
              "      <td>NaN</td>\n",
              "      <td>NaN</td>\n",
              "      <td>organic</td>\n",
              "      <td>https</td>\n",
              "      <td>www.carwow.co.uk/best/cars-for-sale-with-0-per...</td>\n",
              "      <td>!permanent keywords / auto express / featured ...</td>\n",
              "      <td>False</td>\n",
              "      <td>Cars</td>\n",
              "      <td>True</td>\n",
              "    </tr>\n",
              "    <tr>\n",
              "      <th>2</th>\n",
              "      <td>0 apr car deals</td>\n",
              "      <td>GB-en</td>\n",
              "      <td>NaN</td>\n",
              "      <td>desktop</td>\n",
              "      <td>1900.0</td>\n",
              "      <td>3</td>\n",
              "      <td>NaN</td>\n",
              "      <td>NaN</td>\n",
              "      <td>NaN</td>\n",
              "      <td>organic</td>\n",
              "      <td>http</td>\n",
              "      <td>www.autoexpress.co.uk/best-cars/98556/the-best...</td>\n",
              "      <td>!permanent keywords / auto express / featured ...</td>\n",
              "      <td>False</td>\n",
              "      <td>Cars</td>\n",
              "      <td>False</td>\n",
              "    </tr>\n",
              "    <tr>\n",
              "      <th>3</th>\n",
              "      <td>0 apr car deals</td>\n",
              "      <td>GB-en</td>\n",
              "      <td>NaN</td>\n",
              "      <td>desktop</td>\n",
              "      <td>1900.0</td>\n",
              "      <td>4</td>\n",
              "      <td>NaN</td>\n",
              "      <td>NaN</td>\n",
              "      <td>NaN</td>\n",
              "      <td>organic</td>\n",
              "      <td>http</td>\n",
              "      <td>www.autoexpress.co.uk/best-cars/85381/best-new...</td>\n",
              "      <td>!permanent keywords / auto express / featured ...</td>\n",
              "      <td>False</td>\n",
              "      <td>Cars</td>\n",
              "      <td>False</td>\n",
              "    </tr>\n",
              "    <tr>\n",
              "      <th>4</th>\n",
              "      <td>0 apr car deals</td>\n",
              "      <td>GB-en</td>\n",
              "      <td>NaN</td>\n",
              "      <td>desktop</td>\n",
              "      <td>1900.0</td>\n",
              "      <td>5</td>\n",
              "      <td>NaN</td>\n",
              "      <td>NaN</td>\n",
              "      <td>NaN</td>\n",
              "      <td>organic</td>\n",
              "      <td>https</td>\n",
              "      <td>www.toyota.co.uk/current-offers/index.json</td>\n",
              "      <td>!permanent keywords / auto express / featured ...</td>\n",
              "      <td>False</td>\n",
              "      <td>Cars</td>\n",
              "      <td>False</td>\n",
              "    </tr>\n",
              "    <tr>\n",
              "      <th>5</th>\n",
              "      <td>0 apr car deals</td>\n",
              "      <td>GB-en</td>\n",
              "      <td>NaN</td>\n",
              "      <td>desktop</td>\n",
              "      <td>1900.0</td>\n",
              "      <td>6</td>\n",
              "      <td>NaN</td>\n",
              "      <td>NaN</td>\n",
              "      <td>NaN</td>\n",
              "      <td>organic</td>\n",
              "      <td>http</td>\n",
              "      <td>www.interestfree4cars.com/</td>\n",
              "      <td>!permanent keywords / auto express / featured ...</td>\n",
              "      <td>False</td>\n",
              "      <td>Cars</td>\n",
              "      <td>False</td>\n",
              "    </tr>\n",
              "    <tr>\n",
              "      <th>6</th>\n",
              "      <td>0 apr car deals</td>\n",
              "      <td>GB-en</td>\n",
              "      <td>NaN</td>\n",
              "      <td>desktop</td>\n",
              "      <td>1900.0</td>\n",
              "      <td>7</td>\n",
              "      <td>NaN</td>\n",
              "      <td>NaN</td>\n",
              "      <td>NaN</td>\n",
              "      <td>organic</td>\n",
              "      <td>http</td>\n",
              "      <td>www.thisismoney.co.uk/money/cars/article-42716...</td>\n",
              "      <td>!permanent keywords / auto express / featured ...</td>\n",
              "      <td>False</td>\n",
              "      <td>Cars</td>\n",
              "      <td>False</td>\n",
              "    </tr>\n",
              "    <tr>\n",
              "      <th>7</th>\n",
              "      <td>0 apr car deals</td>\n",
              "      <td>GB-en</td>\n",
              "      <td>NaN</td>\n",
              "      <td>desktop</td>\n",
              "      <td>1900.0</td>\n",
              "      <td>8</td>\n",
              "      <td>NaN</td>\n",
              "      <td>NaN</td>\n",
              "      <td>NaN</td>\n",
              "      <td>organic</td>\n",
              "      <td>http</td>\n",
              "      <td>www.stoneacre.co.uk/0-car-finance</td>\n",
              "      <td>!permanent keywords / auto express / featured ...</td>\n",
              "      <td>False</td>\n",
              "      <td>Cars</td>\n",
              "      <td>False</td>\n",
              "    </tr>\n",
              "    <tr>\n",
              "      <th>8</th>\n",
              "      <td>0 apr car deals</td>\n",
              "      <td>GB-en</td>\n",
              "      <td>NaN</td>\n",
              "      <td>desktop</td>\n",
              "      <td>1900.0</td>\n",
              "      <td>9</td>\n",
              "      <td>NaN</td>\n",
              "      <td>NaN</td>\n",
              "      <td>NaN</td>\n",
              "      <td>organic</td>\n",
              "      <td>http</td>\n",
              "      <td>www.carbuyer.co.uk/news/81264/best-new-car-dea...</td>\n",
              "      <td>!permanent keywords / auto express / featured ...</td>\n",
              "      <td>False</td>\n",
              "      <td>Cars</td>\n",
              "      <td>False</td>\n",
              "    </tr>\n",
              "    <tr>\n",
              "      <th>9</th>\n",
              "      <td>0 apr car deals</td>\n",
              "      <td>GB-en</td>\n",
              "      <td>NaN</td>\n",
              "      <td>desktop</td>\n",
              "      <td>1900.0</td>\n",
              "      <td>10</td>\n",
              "      <td>NaN</td>\n",
              "      <td>NaN</td>\n",
              "      <td>NaN</td>\n",
              "      <td>organic</td>\n",
              "      <td>http</td>\n",
              "      <td>www.hyundai.co.uk/offers</td>\n",
              "      <td>!permanent keywords / auto express / featured ...</td>\n",
              "      <td>False</td>\n",
              "      <td>Cars</td>\n",
              "      <td>False</td>\n",
              "    </tr>\n",
              "  </tbody>\n",
              "</table>\n",
              "</div>"
            ],
            "text/plain": [
              "           Keyword Market  Location  ... is_rank_1  industry  is_rank_2\n",
              "0  0 apr car deals  GB-en       NaN  ...      True      Cars      False\n",
              "1  0 apr car deals  GB-en       NaN  ...     False      Cars       True\n",
              "2  0 apr car deals  GB-en       NaN  ...     False      Cars      False\n",
              "3  0 apr car deals  GB-en       NaN  ...     False      Cars      False\n",
              "4  0 apr car deals  GB-en       NaN  ...     False      Cars      False\n",
              "5  0 apr car deals  GB-en       NaN  ...     False      Cars      False\n",
              "6  0 apr car deals  GB-en       NaN  ...     False      Cars      False\n",
              "7  0 apr car deals  GB-en       NaN  ...     False      Cars      False\n",
              "8  0 apr car deals  GB-en       NaN  ...     False      Cars      False\n",
              "9  0 apr car deals  GB-en       NaN  ...     False      Cars      False\n",
              "\n",
              "[10 rows x 16 columns]"
            ]
          },
          "metadata": {
            "tags": []
          },
          "execution_count": 24
        }
      ]
    },
    {
      "cell_type": "markdown",
      "metadata": {
        "id": "GCJ2lnghgNN8"
      },
      "source": [
        "##CTR e Tráfego Estimado"
      ]
    },
    {
      "cell_type": "code",
      "metadata": {
        "id": "UeAge4r-PYsX"
      },
      "source": [
        "#criando uma coluna com o CTR estimado - definindo regras com base em https://www.advancedwebranking.com/ctrstudy/\n",
        "\n",
        "def ctr (row):\n",
        "   if row['Rank'] == 1 :\n",
        "      return 0.3\n",
        "   if row['Rank'] == 2 :\n",
        "      return 0.15\n",
        "   if row['Rank'] == 3 :\n",
        "      return 0.10\n",
        "   if row['Rank'] == 4 :\n",
        "      return 0.06\n",
        "   if row['Rank'] == 5 :\n",
        "      return 0.04\n",
        "   if row['Rank'] == 6 :\n",
        "      return 0.04\n",
        "   if row['Rank'] == 7 :\n",
        "      return 0.03\n",
        "   if row['Rank'] == 8 :\n",
        "      return 0.02\n",
        "   if row['Rank'] == 9 :\n",
        "      return 0.02\n",
        "   if row['Rank'] == 10 :\n",
        "      return 0.01\n",
        "      return 0"
      ],
      "execution_count": null,
      "outputs": []
    },
    {
      "cell_type": "code",
      "metadata": {
        "id": "kkX-1dqBUdVU"
      },
      "source": [
        "#criação da coluna a partir da função ctr\n",
        "df['ctr'] = df.apply (lambda row: ctr(row), axis=1)\n"
      ],
      "execution_count": null,
      "outputs": []
    },
    {
      "cell_type": "code",
      "metadata": {
        "id": "yk_x9cM6Ujs3",
        "outputId": "7d1ead15-971b-491e-abb9-f34af4d1c792",
        "colab": {
          "base_uri": "https://localhost:8080/",
          "height": 413
        }
      },
      "source": [
        "df.head(3)"
      ],
      "execution_count": null,
      "outputs": [
        {
          "output_type": "execute_result",
          "data": {
            "text/html": [
              "<div>\n",
              "<style scoped>\n",
              "    .dataframe tbody tr th:only-of-type {\n",
              "        vertical-align: middle;\n",
              "    }\n",
              "\n",
              "    .dataframe tbody tr th {\n",
              "        vertical-align: top;\n",
              "    }\n",
              "\n",
              "    .dataframe thead th {\n",
              "        text-align: right;\n",
              "    }\n",
              "</style>\n",
              "<table border=\"1\" class=\"dataframe\">\n",
              "  <thead>\n",
              "    <tr style=\"text-align: right;\">\n",
              "      <th></th>\n",
              "      <th>Keyword</th>\n",
              "      <th>Market</th>\n",
              "      <th>Location</th>\n",
              "      <th>Device</th>\n",
              "      <th>Regional Monthly Search Volume</th>\n",
              "      <th>Rank</th>\n",
              "      <th>Result Types for Jan  1, 2017</th>\n",
              "      <th>Protocol for Jan  1, 2017</th>\n",
              "      <th>Ranking URL on Jan  1, 2017</th>\n",
              "      <th>Result Types for Sep  1, 2017</th>\n",
              "      <th>Protocol for Sep  1, 2017</th>\n",
              "      <th>Ranking URL on Sep  1, 2017</th>\n",
              "      <th>Tags</th>\n",
              "      <th>is_rank_1</th>\n",
              "      <th>industry</th>\n",
              "      <th>is_rank_2</th>\n",
              "      <th>ctr</th>\n",
              "    </tr>\n",
              "  </thead>\n",
              "  <tbody>\n",
              "    <tr>\n",
              "      <th>0</th>\n",
              "      <td>0 apr car deals</td>\n",
              "      <td>GB-en</td>\n",
              "      <td>NaN</td>\n",
              "      <td>desktop</td>\n",
              "      <td>1900.0</td>\n",
              "      <td>1</td>\n",
              "      <td>NaN</td>\n",
              "      <td>NaN</td>\n",
              "      <td>NaN</td>\n",
              "      <td>answers / list</td>\n",
              "      <td>http</td>\n",
              "      <td>www.autoexpress.co.uk/best-cars/98556/the-best...</td>\n",
              "      <td>!permanent keywords / auto express / featured ...</td>\n",
              "      <td>True</td>\n",
              "      <td>Cars</td>\n",
              "      <td>False</td>\n",
              "      <td>0.30</td>\n",
              "    </tr>\n",
              "    <tr>\n",
              "      <th>1</th>\n",
              "      <td>0 apr car deals</td>\n",
              "      <td>GB-en</td>\n",
              "      <td>NaN</td>\n",
              "      <td>desktop</td>\n",
              "      <td>1900.0</td>\n",
              "      <td>2</td>\n",
              "      <td>NaN</td>\n",
              "      <td>NaN</td>\n",
              "      <td>NaN</td>\n",
              "      <td>organic</td>\n",
              "      <td>https</td>\n",
              "      <td>www.carwow.co.uk/best/cars-for-sale-with-0-per...</td>\n",
              "      <td>!permanent keywords / auto express / featured ...</td>\n",
              "      <td>False</td>\n",
              "      <td>Cars</td>\n",
              "      <td>True</td>\n",
              "      <td>0.15</td>\n",
              "    </tr>\n",
              "    <tr>\n",
              "      <th>2</th>\n",
              "      <td>0 apr car deals</td>\n",
              "      <td>GB-en</td>\n",
              "      <td>NaN</td>\n",
              "      <td>desktop</td>\n",
              "      <td>1900.0</td>\n",
              "      <td>3</td>\n",
              "      <td>NaN</td>\n",
              "      <td>NaN</td>\n",
              "      <td>NaN</td>\n",
              "      <td>organic</td>\n",
              "      <td>http</td>\n",
              "      <td>www.autoexpress.co.uk/best-cars/98556/the-best...</td>\n",
              "      <td>!permanent keywords / auto express / featured ...</td>\n",
              "      <td>False</td>\n",
              "      <td>Cars</td>\n",
              "      <td>False</td>\n",
              "      <td>0.10</td>\n",
              "    </tr>\n",
              "  </tbody>\n",
              "</table>\n",
              "</div>"
            ],
            "text/plain": [
              "           Keyword Market  Location  ... industry  is_rank_2   ctr\n",
              "0  0 apr car deals  GB-en       NaN  ...     Cars      False  0.30\n",
              "1  0 apr car deals  GB-en       NaN  ...     Cars       True  0.15\n",
              "2  0 apr car deals  GB-en       NaN  ...     Cars      False  0.10\n",
              "\n",
              "[3 rows x 17 columns]"
            ]
          },
          "metadata": {
            "tags": []
          },
          "execution_count": 27
        }
      ]
    },
    {
      "cell_type": "code",
      "metadata": {
        "id": "9rhgg_PGeNZJ"
      },
      "source": [
        "#definindo o tráfego estimado do termo\n",
        "\n",
        "df['estimated traffic'] = df['Regional Monthly Search Volume']*df['ctr']"
      ],
      "execution_count": null,
      "outputs": []
    },
    {
      "cell_type": "code",
      "metadata": {
        "id": "_nlV8cngeskq",
        "outputId": "3cbe411b-ee29-43fc-f860-5bfcecfac6da",
        "colab": {
          "base_uri": "https://localhost:8080/",
          "height": 413
        }
      },
      "source": [
        "df.head(3)"
      ],
      "execution_count": null,
      "outputs": [
        {
          "output_type": "execute_result",
          "data": {
            "text/html": [
              "<div>\n",
              "<style scoped>\n",
              "    .dataframe tbody tr th:only-of-type {\n",
              "        vertical-align: middle;\n",
              "    }\n",
              "\n",
              "    .dataframe tbody tr th {\n",
              "        vertical-align: top;\n",
              "    }\n",
              "\n",
              "    .dataframe thead th {\n",
              "        text-align: right;\n",
              "    }\n",
              "</style>\n",
              "<table border=\"1\" class=\"dataframe\">\n",
              "  <thead>\n",
              "    <tr style=\"text-align: right;\">\n",
              "      <th></th>\n",
              "      <th>Keyword</th>\n",
              "      <th>Market</th>\n",
              "      <th>Location</th>\n",
              "      <th>Device</th>\n",
              "      <th>Regional Monthly Search Volume</th>\n",
              "      <th>Rank</th>\n",
              "      <th>Result Types for Jan  1, 2017</th>\n",
              "      <th>Protocol for Jan  1, 2017</th>\n",
              "      <th>Ranking URL on Jan  1, 2017</th>\n",
              "      <th>Result Types for Sep  1, 2017</th>\n",
              "      <th>Protocol for Sep  1, 2017</th>\n",
              "      <th>Ranking URL on Sep  1, 2017</th>\n",
              "      <th>Tags</th>\n",
              "      <th>is_rank_1</th>\n",
              "      <th>industry</th>\n",
              "      <th>is_rank_2</th>\n",
              "      <th>ctr</th>\n",
              "      <th>estimated traffic</th>\n",
              "    </tr>\n",
              "  </thead>\n",
              "  <tbody>\n",
              "    <tr>\n",
              "      <th>0</th>\n",
              "      <td>0 apr car deals</td>\n",
              "      <td>GB-en</td>\n",
              "      <td>NaN</td>\n",
              "      <td>desktop</td>\n",
              "      <td>1900.0</td>\n",
              "      <td>1</td>\n",
              "      <td>NaN</td>\n",
              "      <td>NaN</td>\n",
              "      <td>NaN</td>\n",
              "      <td>answers / list</td>\n",
              "      <td>http</td>\n",
              "      <td>www.autoexpress.co.uk/best-cars/98556/the-best...</td>\n",
              "      <td>!permanent keywords / auto express / featured ...</td>\n",
              "      <td>True</td>\n",
              "      <td>Cars</td>\n",
              "      <td>False</td>\n",
              "      <td>0.30</td>\n",
              "      <td>570.0</td>\n",
              "    </tr>\n",
              "    <tr>\n",
              "      <th>1</th>\n",
              "      <td>0 apr car deals</td>\n",
              "      <td>GB-en</td>\n",
              "      <td>NaN</td>\n",
              "      <td>desktop</td>\n",
              "      <td>1900.0</td>\n",
              "      <td>2</td>\n",
              "      <td>NaN</td>\n",
              "      <td>NaN</td>\n",
              "      <td>NaN</td>\n",
              "      <td>organic</td>\n",
              "      <td>https</td>\n",
              "      <td>www.carwow.co.uk/best/cars-for-sale-with-0-per...</td>\n",
              "      <td>!permanent keywords / auto express / featured ...</td>\n",
              "      <td>False</td>\n",
              "      <td>Cars</td>\n",
              "      <td>True</td>\n",
              "      <td>0.15</td>\n",
              "      <td>285.0</td>\n",
              "    </tr>\n",
              "    <tr>\n",
              "      <th>2</th>\n",
              "      <td>0 apr car deals</td>\n",
              "      <td>GB-en</td>\n",
              "      <td>NaN</td>\n",
              "      <td>desktop</td>\n",
              "      <td>1900.0</td>\n",
              "      <td>3</td>\n",
              "      <td>NaN</td>\n",
              "      <td>NaN</td>\n",
              "      <td>NaN</td>\n",
              "      <td>organic</td>\n",
              "      <td>http</td>\n",
              "      <td>www.autoexpress.co.uk/best-cars/98556/the-best...</td>\n",
              "      <td>!permanent keywords / auto express / featured ...</td>\n",
              "      <td>False</td>\n",
              "      <td>Cars</td>\n",
              "      <td>False</td>\n",
              "      <td>0.10</td>\n",
              "      <td>190.0</td>\n",
              "    </tr>\n",
              "  </tbody>\n",
              "</table>\n",
              "</div>"
            ],
            "text/plain": [
              "           Keyword Market  Location  ... is_rank_2   ctr  estimated traffic\n",
              "0  0 apr car deals  GB-en       NaN  ...     False  0.30              570.0\n",
              "1  0 apr car deals  GB-en       NaN  ...      True  0.15              285.0\n",
              "2  0 apr car deals  GB-en       NaN  ...     False  0.10              190.0\n",
              "\n",
              "[3 rows x 18 columns]"
            ]
          },
          "metadata": {
            "tags": []
          },
          "execution_count": 29
        }
      ]
    },
    {
      "cell_type": "markdown",
      "metadata": {
        "id": "TlO6EjPUgswx"
      },
      "source": [
        "##Categorizando strings com regex"
      ]
    },
    {
      "cell_type": "code",
      "metadata": {
        "id": "Bc4fInqufMMD"
      },
      "source": [
        "#criando colunas com base em dados de strings (regex) - pode ser interessante para dividir termos com e sem marca.\n",
        "\n",
        "df['car_type'] = df['Keyword'].str.extract(\"(bmw|audi|ford)\", re.IGNORECASE, expand=False)"
      ],
      "execution_count": null,
      "outputs": []
    },
    {
      "cell_type": "code",
      "metadata": {
        "id": "i0c0DNw-Wa6_"
      },
      "source": [
        "df.sort_values(by=['Regional Monthly Search Volume'], inplace=True, ascending=False)"
      ],
      "execution_count": null,
      "outputs": []
    },
    {
      "cell_type": "code",
      "metadata": {
        "id": "M80qoJpyW6Uu",
        "outputId": "82933b71-5362-4cb0-d383-9d7a5ad9d70f",
        "colab": {
          "base_uri": "https://localhost:8080/",
          "height": 1000
        }
      },
      "source": [
        "df.head(10)"
      ],
      "execution_count": null,
      "outputs": [
        {
          "output_type": "execute_result",
          "data": {
            "text/html": [
              "<div>\n",
              "<style scoped>\n",
              "    .dataframe tbody tr th:only-of-type {\n",
              "        vertical-align: middle;\n",
              "    }\n",
              "\n",
              "    .dataframe tbody tr th {\n",
              "        vertical-align: top;\n",
              "    }\n",
              "\n",
              "    .dataframe thead th {\n",
              "        text-align: right;\n",
              "    }\n",
              "</style>\n",
              "<table border=\"1\" class=\"dataframe\">\n",
              "  <thead>\n",
              "    <tr style=\"text-align: right;\">\n",
              "      <th></th>\n",
              "      <th>Keyword</th>\n",
              "      <th>Market</th>\n",
              "      <th>Location</th>\n",
              "      <th>Device</th>\n",
              "      <th>Regional Monthly Search Volume</th>\n",
              "      <th>Rank</th>\n",
              "      <th>Result Types for Jan  1, 2017</th>\n",
              "      <th>Protocol for Jan  1, 2017</th>\n",
              "      <th>Ranking URL on Jan  1, 2017</th>\n",
              "      <th>Result Types for Sep  1, 2017</th>\n",
              "      <th>Protocol for Sep  1, 2017</th>\n",
              "      <th>Ranking URL on Sep  1, 2017</th>\n",
              "      <th>Tags</th>\n",
              "      <th>is_rank_1</th>\n",
              "      <th>industry</th>\n",
              "      <th>is_rank_2</th>\n",
              "      <th>ctr</th>\n",
              "      <th>estimated traffic</th>\n",
              "      <th>car_type</th>\n",
              "    </tr>\n",
              "  </thead>\n",
              "  <tbody>\n",
              "    <tr>\n",
              "      <th>2309</th>\n",
              "      <td>audi</td>\n",
              "      <td>GB-en</td>\n",
              "      <td>NaN</td>\n",
              "      <td>desktop</td>\n",
              "      <td>368000.0</td>\n",
              "      <td>10</td>\n",
              "      <td>organic</td>\n",
              "      <td>http</td>\n",
              "      <td>www.autoexpress.co.uk/audi</td>\n",
              "      <td>images</td>\n",
              "      <td>http</td>\n",
              "      <td>www.google.co.uk/</td>\n",
              "      <td>!permanent keywords / cars - audi / google new...</td>\n",
              "      <td>False</td>\n",
              "      <td>Cars</td>\n",
              "      <td>False</td>\n",
              "      <td>0.01</td>\n",
              "      <td>3680.0</td>\n",
              "      <td>audi</td>\n",
              "    </tr>\n",
              "    <tr>\n",
              "      <th>2307</th>\n",
              "      <td>audi</td>\n",
              "      <td>GB-en</td>\n",
              "      <td>NaN</td>\n",
              "      <td>desktop</td>\n",
              "      <td>368000.0</td>\n",
              "      <td>8</td>\n",
              "      <td>organic</td>\n",
              "      <td>http</td>\n",
              "      <td>www.topgear.com/car-reviews/find/make/audi</td>\n",
              "      <td>organic</td>\n",
              "      <td>https</td>\n",
              "      <td>www.whatcar.com/audi/</td>\n",
              "      <td>!permanent keywords / cars - audi / google new...</td>\n",
              "      <td>False</td>\n",
              "      <td>Cars</td>\n",
              "      <td>False</td>\n",
              "      <td>0.02</td>\n",
              "      <td>7360.0</td>\n",
              "      <td>audi</td>\n",
              "    </tr>\n",
              "    <tr>\n",
              "      <th>24615</th>\n",
              "      <td>evans halshaw</td>\n",
              "      <td>GB-en</td>\n",
              "      <td>NaN</td>\n",
              "      <td>desktop</td>\n",
              "      <td>368000.0</td>\n",
              "      <td>16</td>\n",
              "      <td>NaN</td>\n",
              "      <td>NaN</td>\n",
              "      <td>NaN</td>\n",
              "      <td>organic</td>\n",
              "      <td>https</td>\n",
              "      <td>dealer.citroen.co.uk/bradford</td>\n",
              "      <td>competitor / dealers / temp - car dealers / te...</td>\n",
              "      <td>False</td>\n",
              "      <td>Cars</td>\n",
              "      <td>False</td>\n",
              "      <td>NaN</td>\n",
              "      <td>NaN</td>\n",
              "      <td>NaN</td>\n",
              "    </tr>\n",
              "    <tr>\n",
              "      <th>24616</th>\n",
              "      <td>evans halshaw</td>\n",
              "      <td>GB-en</td>\n",
              "      <td>NaN</td>\n",
              "      <td>desktop</td>\n",
              "      <td>368000.0</td>\n",
              "      <td>17</td>\n",
              "      <td>NaN</td>\n",
              "      <td>NaN</td>\n",
              "      <td>NaN</td>\n",
              "      <td>organic</td>\n",
              "      <td>https</td>\n",
              "      <td>dealer.peugeot.co.uk/york</td>\n",
              "      <td>competitor / dealers / temp - car dealers / te...</td>\n",
              "      <td>False</td>\n",
              "      <td>Cars</td>\n",
              "      <td>False</td>\n",
              "      <td>NaN</td>\n",
              "      <td>NaN</td>\n",
              "      <td>NaN</td>\n",
              "    </tr>\n",
              "    <tr>\n",
              "      <th>24617</th>\n",
              "      <td>evans halshaw</td>\n",
              "      <td>GB-en</td>\n",
              "      <td>NaN</td>\n",
              "      <td>desktop</td>\n",
              "      <td>368000.0</td>\n",
              "      <td>18</td>\n",
              "      <td>NaN</td>\n",
              "      <td>NaN</td>\n",
              "      <td>NaN</td>\n",
              "      <td>organic</td>\n",
              "      <td>https</td>\n",
              "      <td>beta.companieshouse.gov.uk/company/01838867</td>\n",
              "      <td>competitor / dealers / temp - car dealers / te...</td>\n",
              "      <td>False</td>\n",
              "      <td>Cars</td>\n",
              "      <td>False</td>\n",
              "      <td>NaN</td>\n",
              "      <td>NaN</td>\n",
              "      <td>NaN</td>\n",
              "    </tr>\n",
              "    <tr>\n",
              "      <th>24618</th>\n",
              "      <td>evans halshaw</td>\n",
              "      <td>GB-en</td>\n",
              "      <td>NaN</td>\n",
              "      <td>desktop</td>\n",
              "      <td>368000.0</td>\n",
              "      <td>19</td>\n",
              "      <td>NaN</td>\n",
              "      <td>NaN</td>\n",
              "      <td>NaN</td>\n",
              "      <td>organic</td>\n",
              "      <td>http</td>\n",
              "      <td>www.gazettelive.co.uk/news/teesside-news/assis...</td>\n",
              "      <td>competitor / dealers / temp - car dealers / te...</td>\n",
              "      <td>False</td>\n",
              "      <td>Cars</td>\n",
              "      <td>False</td>\n",
              "      <td>NaN</td>\n",
              "      <td>NaN</td>\n",
              "      <td>NaN</td>\n",
              "    </tr>\n",
              "    <tr>\n",
              "      <th>24619</th>\n",
              "      <td>evans halshaw</td>\n",
              "      <td>GB-en</td>\n",
              "      <td>NaN</td>\n",
              "      <td>desktop</td>\n",
              "      <td>368000.0</td>\n",
              "      <td>20</td>\n",
              "      <td>NaN</td>\n",
              "      <td>NaN</td>\n",
              "      <td>NaN</td>\n",
              "      <td>organic</td>\n",
              "      <td>http</td>\n",
              "      <td>www.hyundai.co.uk/dealer/evans-halshaw-harrogate</td>\n",
              "      <td>competitor / dealers / temp - car dealers / te...</td>\n",
              "      <td>False</td>\n",
              "      <td>Cars</td>\n",
              "      <td>False</td>\n",
              "      <td>NaN</td>\n",
              "      <td>NaN</td>\n",
              "      <td>NaN</td>\n",
              "    </tr>\n",
              "    <tr>\n",
              "      <th>24620</th>\n",
              "      <td>evans halshaw</td>\n",
              "      <td>GB-en</td>\n",
              "      <td>NaN</td>\n",
              "      <td>smartphone</td>\n",
              "      <td>368000.0</td>\n",
              "      <td>1</td>\n",
              "      <td>organic</td>\n",
              "      <td>http</td>\n",
              "      <td>www.evanshalshaw.com/</td>\n",
              "      <td>organic</td>\n",
              "      <td>http</td>\n",
              "      <td>www.evanshalshaw.com/</td>\n",
              "      <td>competitor / dealers / gsc / permanent keyword...</td>\n",
              "      <td>True</td>\n",
              "      <td>Cars</td>\n",
              "      <td>False</td>\n",
              "      <td>0.30</td>\n",
              "      <td>110400.0</td>\n",
              "      <td>NaN</td>\n",
              "    </tr>\n",
              "    <tr>\n",
              "      <th>24621</th>\n",
              "      <td>evans halshaw</td>\n",
              "      <td>GB-en</td>\n",
              "      <td>NaN</td>\n",
              "      <td>smartphone</td>\n",
              "      <td>368000.0</td>\n",
              "      <td>2</td>\n",
              "      <td>knowledge graph</td>\n",
              "      <td>http</td>\n",
              "      <td>www.google.co.uk/</td>\n",
              "      <td>knowledge graph</td>\n",
              "      <td>http</td>\n",
              "      <td>www.google.co.uk/</td>\n",
              "      <td>competitor / dealers / gsc / permanent keyword...</td>\n",
              "      <td>False</td>\n",
              "      <td>Cars</td>\n",
              "      <td>True</td>\n",
              "      <td>0.15</td>\n",
              "      <td>55200.0</td>\n",
              "      <td>NaN</td>\n",
              "    </tr>\n",
              "    <tr>\n",
              "      <th>24622</th>\n",
              "      <td>evans halshaw</td>\n",
              "      <td>GB-en</td>\n",
              "      <td>NaN</td>\n",
              "      <td>smartphone</td>\n",
              "      <td>368000.0</td>\n",
              "      <td>3</td>\n",
              "      <td>organic</td>\n",
              "      <td>https</td>\n",
              "      <td>m.facebook.com/evanshalshaw/</td>\n",
              "      <td>organic</td>\n",
              "      <td>https</td>\n",
              "      <td>twitter.com/evanshalshawuk?ref_src=twsrc%5Egoo...</td>\n",
              "      <td>competitor / dealers / gsc / permanent keyword...</td>\n",
              "      <td>False</td>\n",
              "      <td>Cars</td>\n",
              "      <td>False</td>\n",
              "      <td>0.10</td>\n",
              "      <td>36800.0</td>\n",
              "      <td>NaN</td>\n",
              "    </tr>\n",
              "  </tbody>\n",
              "</table>\n",
              "</div>"
            ],
            "text/plain": [
              "             Keyword Market  Location  ...   ctr  estimated traffic  car_type\n",
              "2309            audi  GB-en       NaN  ...  0.01             3680.0      audi\n",
              "2307            audi  GB-en       NaN  ...  0.02             7360.0      audi\n",
              "24615  evans halshaw  GB-en       NaN  ...   NaN                NaN       NaN\n",
              "24616  evans halshaw  GB-en       NaN  ...   NaN                NaN       NaN\n",
              "24617  evans halshaw  GB-en       NaN  ...   NaN                NaN       NaN\n",
              "24618  evans halshaw  GB-en       NaN  ...   NaN                NaN       NaN\n",
              "24619  evans halshaw  GB-en       NaN  ...   NaN                NaN       NaN\n",
              "24620  evans halshaw  GB-en       NaN  ...  0.30           110400.0       NaN\n",
              "24621  evans halshaw  GB-en       NaN  ...  0.15            55200.0       NaN\n",
              "24622  evans halshaw  GB-en       NaN  ...  0.10            36800.0       NaN\n",
              "\n",
              "[10 rows x 19 columns]"
            ]
          },
          "metadata": {
            "tags": []
          },
          "execution_count": 38
        }
      ]
    },
    {
      "cell_type": "markdown",
      "metadata": {
        "id": "0rtSsWZ5ljCV"
      },
      "source": [
        "##Dúvidas?\n",
        "Você consegue pensar em alguma coluna que pode ser criada com base nos valores do dataframe que estamos trabalhando?"
      ]
    },
    {
      "cell_type": "markdown",
      "metadata": {
        "id": "Y9m1mns7lBY1"
      },
      "source": [
        "#Group by: visão geral"
      ]
    },
    {
      "cell_type": "code",
      "metadata": {
        "id": "YcYCjiO_mCWK"
      },
      "source": [
        "#vendo número de palavras e média de ranking por data e país \n",
        "df_group = df.groupby(['Ranking URL on Sep  1, 2017']).agg({\n",
        "    'Keyword': 'count',\n",
        "    'Rank': 'mean',\n",
        "    'Regional Monthly Search Volume': 'sum',\n",
        "    'estimated traffic': 'sum'\n",
        "}).reset_index()"
      ],
      "execution_count": null,
      "outputs": []
    },
    {
      "cell_type": "code",
      "metadata": {
        "id": "VWUVgZzhZIuM"
      },
      "source": [
        "df_group.sort_values(by=['estimated traffic'], inplace=True, ascending=False)\n"
      ],
      "execution_count": null,
      "outputs": []
    },
    {
      "cell_type": "code",
      "metadata": {
        "id": "hu1NsKvHmMVw",
        "outputId": "5d658ad0-27e2-41ad-a225-0c5f761e412b",
        "colab": {
          "base_uri": "https://localhost:8080/",
          "height": 335
        }
      },
      "source": [
        "df_group.head(10)"
      ],
      "execution_count": null,
      "outputs": [
        {
          "output_type": "execute_result",
          "data": {
            "text/html": [
              "<div>\n",
              "<style scoped>\n",
              "    .dataframe tbody tr th:only-of-type {\n",
              "        vertical-align: middle;\n",
              "    }\n",
              "\n",
              "    .dataframe tbody tr th {\n",
              "        vertical-align: top;\n",
              "    }\n",
              "\n",
              "    .dataframe thead th {\n",
              "        text-align: right;\n",
              "    }\n",
              "</style>\n",
              "<table border=\"1\" class=\"dataframe\">\n",
              "  <thead>\n",
              "    <tr style=\"text-align: right;\">\n",
              "      <th></th>\n",
              "      <th>Ranking URL on Sep  1, 2017</th>\n",
              "      <th>Keyword</th>\n",
              "      <th>Rank</th>\n",
              "      <th>Regional Monthly Search Volume</th>\n",
              "      <th>estimated traffic</th>\n",
              "    </tr>\n",
              "  </thead>\n",
              "  <tbody>\n",
              "    <tr>\n",
              "      <th>7163</th>\n",
              "      <td>www.google.co.uk/</td>\n",
              "      <td>812</td>\n",
              "      <td>4.735222</td>\n",
              "      <td>11580180.0</td>\n",
              "      <td>1673447.8</td>\n",
              "    </tr>\n",
              "    <tr>\n",
              "      <th>4615</th>\n",
              "      <td>www.cargiant.co.uk/</td>\n",
              "      <td>6</td>\n",
              "      <td>5.833333</td>\n",
              "      <td>1207800.0</td>\n",
              "      <td>361200.0</td>\n",
              "    </tr>\n",
              "    <tr>\n",
              "      <th>5595</th>\n",
              "      <td>www.confused.com/car-valuation</td>\n",
              "      <td>568</td>\n",
              "      <td>2.228873</td>\n",
              "      <td>1714800.0</td>\n",
              "      <td>283163.0</td>\n",
              "    </tr>\n",
              "    <tr>\n",
              "      <th>2981</th>\n",
              "      <td>www.autotrader.co.uk/</td>\n",
              "      <td>67</td>\n",
              "      <td>2.194030</td>\n",
              "      <td>2076150.0</td>\n",
              "      <td>277738.6</td>\n",
              "    </tr>\n",
              "    <tr>\n",
              "      <th>3018</th>\n",
              "      <td>www.autotrader.co.uk/car-valuation</td>\n",
              "      <td>425</td>\n",
              "      <td>2.082353</td>\n",
              "      <td>1190430.0</td>\n",
              "      <td>264825.1</td>\n",
              "    </tr>\n",
              "    <tr>\n",
              "      <th>9074</th>\n",
              "      <td>www.motors.co.uk/used-cars/</td>\n",
              "      <td>24</td>\n",
              "      <td>2.000000</td>\n",
              "      <td>916200.0</td>\n",
              "      <td>263176.2</td>\n",
              "    </tr>\n",
              "    <tr>\n",
              "      <th>6433</th>\n",
              "      <td>www.evanshalshaw.com/</td>\n",
              "      <td>2</td>\n",
              "      <td>1.000000</td>\n",
              "      <td>736000.0</td>\n",
              "      <td>220800.0</td>\n",
              "    </tr>\n",
              "    <tr>\n",
              "      <th>4786</th>\n",
              "      <td>www.carmagazine.co.uk/</td>\n",
              "      <td>11</td>\n",
              "      <td>10.454545</td>\n",
              "      <td>1223600.0</td>\n",
              "      <td>168648.0</td>\n",
              "    </tr>\n",
              "    <tr>\n",
              "      <th>7177</th>\n",
              "      <td>www.gov.uk/get-vehicle-information-from-dvla</td>\n",
              "      <td>24</td>\n",
              "      <td>4.708333</td>\n",
              "      <td>578360.0</td>\n",
              "      <td>159663.0</td>\n",
              "    </tr>\n",
              "    <tr>\n",
              "      <th>3019</th>\n",
              "      <td>www.autotrader.co.uk/caravans</td>\n",
              "      <td>14</td>\n",
              "      <td>1.642857</td>\n",
              "      <td>584000.0</td>\n",
              "      <td>143715.0</td>\n",
              "    </tr>\n",
              "  </tbody>\n",
              "</table>\n",
              "</div>"
            ],
            "text/plain": [
              "                       Ranking URL on Sep  1, 2017  ...  estimated traffic\n",
              "7163                             www.google.co.uk/  ...          1673447.8\n",
              "4615                           www.cargiant.co.uk/  ...           361200.0\n",
              "5595                www.confused.com/car-valuation  ...           283163.0\n",
              "2981                         www.autotrader.co.uk/  ...           277738.6\n",
              "3018            www.autotrader.co.uk/car-valuation  ...           264825.1\n",
              "9074                   www.motors.co.uk/used-cars/  ...           263176.2\n",
              "6433                         www.evanshalshaw.com/  ...           220800.0\n",
              "4786                        www.carmagazine.co.uk/  ...           168648.0\n",
              "7177  www.gov.uk/get-vehicle-information-from-dvla  ...           159663.0\n",
              "3019                 www.autotrader.co.uk/caravans  ...           143715.0\n",
              "\n",
              "[10 rows x 5 columns]"
            ]
          },
          "metadata": {
            "tags": []
          },
          "execution_count": 49
        }
      ]
    },
    {
      "cell_type": "markdown",
      "metadata": {
        "id": "_dCUxTIum2W4"
      },
      "source": [
        "##Dúvidas?\n",
        "O que poderíamos agrupar neste dataframe?"
      ]
    },
    {
      "cell_type": "markdown",
      "metadata": {
        "id": "PyTIPOgijykY"
      },
      "source": [
        "#Unificando dataframes"
      ]
    },
    {
      "cell_type": "markdown",
      "metadata": {
        "id": "MtEphdIZwVJo"
      },
      "source": [
        "##Unificando csvs's com as mesmas colunas"
      ]
    },
    {
      "cell_type": "code",
      "metadata": {
        "id": "3UyVSbE3mu-Q"
      },
      "source": [
        "#incluir um segundo dataframe \n",
        "df2 = pd.read_csv(\"/content/drive/My Drive/Tutorial_analise_pyladies/Example Car SERPs - Small Second Set.csv\") #cria o dataframe novo\n",
        "list_of_df = [df, df2] #cria uma lista com os 2 dataframes\n",
        "both_dfs = pd.concat(list_of_df) #coloca um sobre o outro"
      ],
      "execution_count": null,
      "outputs": []
    },
    {
      "cell_type": "code",
      "metadata": {
        "id": "MYejHcN8xSjP",
        "outputId": "5bc02948-45a6-4dc2-aa16-65d927861586",
        "colab": {
          "base_uri": "https://localhost:8080/",
          "height": 66
        }
      },
      "source": [
        "#validação do novo dataframe\n",
        "print(df.shape)\n",
        "print(df2.shape)\n",
        "print(both_dfs.shape)"
      ],
      "execution_count": null,
      "outputs": [
        {
          "output_type": "stream",
          "text": [
            "(39600, 19)\n",
            "(20, 13)\n",
            "(39620, 19)\n"
          ],
          "name": "stdout"
        }
      ]
    },
    {
      "cell_type": "code",
      "metadata": {
        "id": "k6gAdtQualUm"
      },
      "source": [
        "both_dfs.to_csv('kws-final.csv')"
      ],
      "execution_count": null,
      "outputs": []
    },
    {
      "cell_type": "markdown",
      "metadata": {
        "id": "djB8g2BG6_eh"
      },
      "source": [
        ""
      ]
    },
    {
      "cell_type": "markdown",
      "metadata": {
        "id": "tfx73PnTxprL"
      },
      "source": [
        "##Dúvidas?\n",
        "Que tipos de csvs poderiam ser unificados para tornar o dataset mais completo?"
      ]
    },
    {
      "cell_type": "markdown",
      "metadata": {
        "id": "EzuLPjqeldXK"
      },
      "source": [
        "#Trabalhando com URLs\n",
        "a ser desenvolvido"
      ]
    },
    {
      "cell_type": "code",
      "metadata": {
        "id": "DEsdE7XJmdCv"
      },
      "source": [
        "from urllib.parse import urlparse"
      ],
      "execution_count": null,
      "outputs": []
    }
  ]
}